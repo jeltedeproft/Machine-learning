{
 "cells": [
  {
   "cell_type": "markdown",
   "metadata": {},
   "source": [
    "# ML Assignment: Use chemical measurements to determine wine quality"
   ]
  },
  {
   "cell_type": "markdown",
   "metadata": {},
   "source": [
    "\n"
   ]
  },
  {
   "cell_type": "markdown",
   "metadata": {},
   "source": [
    "## The dataset"
   ]
  },
  {
   "cell_type": "markdown",
   "metadata": {},
   "source": [
    "You are asked to predict the quality of variants of the Portuguese \"Vinho Verde\" wine, based on objective chemical/physical measurements of those wines, such as their acidity, density, sulphate content, etc. The actual quality of the wine was determined by experts (median of at least 3 evaluations). Each expert graded the wine quality between 0 (very bad) and 10 (very excellent). The data is in raw form (not scaled). A full description of the data set can be found <a href='http://archive.ics.uci.edu/ml/machine-learning-databases/wine-quality/winequality.names'>**here**</a>. \n",
    "\n",
    "The data set can be loaded using following commands (make sure to put the dataset in your iPython notebook directory):"
   ]
  },
  {
   "cell_type": "code",
   "execution_count": 1,
   "metadata": {
    "collapsed": false
   },
   "outputs": [],
   "source": [
    "import numpy as np\n",
    "import pandas as pd\n",
    "import matplotlib.pyplot as pl\n",
    "%matplotlib inline\n",
    "\n",
    "#read and randomly shuffle data\n",
    "wines = pd.read_csv('winequality.csv', sep=';').as_matrix()\n",
    "wines = wines[np.random.permutation(wines.shape[0]),:]\n",
    "\n",
    "tr_set_size = int(len(wines)*0.8)\n",
    "\n",
    "#assign train and test sets (in your experiments, you want to do cross-validation)\n",
    "X_tr = wines[0:tr_set_size,0:-1]\n",
    "y_tr = wines[0:tr_set_size,-1]\n",
    "X_test = wines[tr_set_size:,0:-1]\n",
    "y_test = wines[tr_set_size:,-1]"
   ]
  },
  {
   "cell_type": "markdown",
   "metadata": {},
   "source": [
    "We have a look at individual features to get a feel for the data. For example, the 11th feature (column) in the dataset records the alcohol content of the wine that it describes. The code below provides a visualization of the differences in wine quality depending on the alcohol content. You can see that better wines in general have higher alcohol content."
   ]
  },
  {
   "cell_type": "code",
   "execution_count": 2,
   "metadata": {
    "collapsed": false
   },
   "outputs": [
    {
     "data": {
      "image/png": "[encoded data removed]",
      "text/plain": [
       "<matplotlib.figure.Figure at 0x85d8f98>"
      ]
     },
     "metadata": {},
     "output_type": "display_data"
    }
   ],
   "source": [
    "pl.figure()\n",
    "pl.hist(X_tr[y_tr==5,10],bins=10,color='r',alpha=0.5,label='Very poor wine')\n",
    "pl.hist(X_tr[y_tr==6,10],bins=10,color='b',alpha=0.5,label='Poor wine')\n",
    "pl.hist(X_tr[y_tr==7,10],bins=10,color='g',alpha=0.5,label='Good wine')\n",
    "pl.hist(X_tr[y_tr==8,10],bins=10,color='y',alpha=0.5,label='Very good wine')\n",
    "pl.xlabel('alcohol content')\n",
    "pl.ylabel('#wines')\n",
    "pl.title('#wines of a certain quality given alcohol content')\n",
    "pl.legend()\n",
    "pl.show()\n"
   ]
  },
  {
   "cell_type": "markdown",
   "metadata": {},
   "source": [
    "## Minimum Requirements"
   ]
  },
  {
   "cell_type": "markdown",
   "metadata": {},
   "source": [
    "You will need to train at least 2 different models on the data set (you can use classifiers and regressors, but should evaluate using mean squared error, i.e. regression). Please refer to the handbook Ch.5 and WPO 5 to find the proper methodology to train your models\n",
    "\n",
    "* Train at least 2 models (e.g. decision trees and nearest neighbour) to predict the wine quality. You are allowed to use following regressors: Stochastic Gradient descent, Decision Trees, Perceptrons, Neural Networks, K Nearest Neighbours or Naive Bayes models (except for neural networks, all of these are available in scikit learn).\n",
    "* For each model, optimize the model parameters settings (tree depth, hidden nodes/decay, number of neighbours,...). Show which parameter setting gives the best expected error.\n",
    "* Analyse bias and variance for both model types. Plot learning curves to demonstrate the model performance. (See WPO5)\n",
    "* Compare the best parameter settings for both models and estimate their errors on unseen data. Can you show that one of the models performs better?\n",
    "\n",
    "All results, plots and code should be handed in as an interactive <a href='http://ipython.org/notebook.html'>iPython notebook</a>. The deadline for the assignment is 23/01/2017."
   ]
  },
  {
   "cell_type": "markdown",
   "metadata": {},
   "source": [
    "## Optional Extensions"
   ]
  },
  {
   "cell_type": "markdown",
   "metadata": {},
   "source": [
    "You are encouraged to try and see if you can further improve on the models you obtained above. This is not necessary to obtain a good grade on the assignment, but any extensions on the minimum requirements will count for extra credit. Some suggested possibilities to extend your approach are:\n",
    "\n",
    "* Try a different classification problem. The first 1599 wines in the dataset (before randomization) are red wines, while the remaining 4898 are white. Try to predict based on all the given features whether a wine is red or white.\n",
    "* Try to combine multiple models. Ensemble and boosting methods try to combine the predictions of many, simple models. This typically works best with models that make different errors. Scikit-learn has some support for this, <a href=\"http://scikit-learn.org/stable/modules/ensemble.html\">see here</a>. You can also try to combine the predictions of multiple models manually, i.e. train multiple models and average their predictions\n",
    "* Feel free to lookup additional resources and papers to find more inspiration, see e.g <a href='http://cs.stanford.edu/people/ang/?page_id=414'> here </a> for a paper repository which also contains papers on feature learning"
   ]
  },
  {
   "cell_type": "markdown",
   "metadata": {},
   "source": [
    "## Additional Remarks"
   ]
  },
  {
   "cell_type": "markdown",
   "metadata": {},
   "source": [
    "* Depending on the model used, you may want to <a href='http://scikit-learn.org/stable/modules/preprocessing.html'>scale</a> your features X and/or outputs y\n",
    "* Refer to the <a href='http://scipy.org/docs.html'>SciPy</a> and <a href='http://scikit-learn.org/stable/documentation.html'>Scikit learn</a> documentations for more information on classifiers and data handling.\n",
    "* You are allowed to use additional libraries, but provide references for these. <a href='http://pybrain.org/docs/'>PyBrain (Neural Networks)</a> is a potentially useful library\n",
    "* This assignment will be graded and will count for part of your final grade.\n",
    "* The assignment is **individual**. All results should be your own. Plagiarism will not be tolerated."
   ]
  }
 ],
 "metadata": {
  "kernelspec": {
   "display_name": "Python 3",
   "language": "python",
   "name": "python3"
  },
  "language_info": {
   "codemirror_mode": {
    "name": "ipython",
    "version": 3
   },
   "file_extension": ".py",
   "mimetype": "text/x-python",
   "name": "python",
   "nbconvert_exporter": "python",
   "pygments_lexer": "ipython3",
   "version": "3.4.3"
  }
 },
 "nbformat": 4,
 "nbformat_minor": 0
}
